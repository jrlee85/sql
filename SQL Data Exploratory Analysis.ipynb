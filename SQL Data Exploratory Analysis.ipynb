{
 "cells": [
  {
   "cell_type": "code",
   "execution_count": 19,
   "id": "44bb0cf7",
   "metadata": {},
   "outputs": [],
   "source": [
    "# Import necessary libraries\n",
    "import pandas as pd\n",
    "from pandasql import sqldf\n",
    "import matplotlib.pyplot as plt\n",
    "import math"
   ]
  },
  {
   "cell_type": "code",
   "execution_count": 10,
   "id": "2035aa7a",
   "metadata": {},
   "outputs": [],
   "source": [
    "# Import data into pandas dataframes\n",
    "athlete_events = pd.read_csv(\"athlete_events.csv\")\n",
    "noc_regions = pd.read_csv(\"noc_regions.csv\")\n",
    "population = pd.read_csv(\"Population.csv\", encoding='latin-1')\n",
    "gdp = pd.read_csv(\"GDP.csv\")"
   ]
  },
  {
   "cell_type": "code",
   "execution_count": 3,
   "id": "be800426",
   "metadata": {},
   "outputs": [],
   "source": [
    "# Set up helper function in order to query dataframes using SQL\n",
    "pysqldf = lambda q: sqldf(q, globals())"
   ]
  },
  {
   "cell_type": "code",
   "execution_count": 18,
   "id": "0a2af571",
   "metadata": {},
   "outputs": [
    {
     "data": {
      "text/html": [
       "<div>\n",
       "<style scoped>\n",
       "    .dataframe tbody tr th:only-of-type {\n",
       "        vertical-align: middle;\n",
       "    }\n",
       "\n",
       "    .dataframe tbody tr th {\n",
       "        vertical-align: top;\n",
       "    }\n",
       "\n",
       "    .dataframe thead th {\n",
       "        text-align: right;\n",
       "    }\n",
       "</style>\n",
       "<table border=\"1\" class=\"dataframe\">\n",
       "  <thead>\n",
       "    <tr style=\"text-align: right;\">\n",
       "      <th></th>\n",
       "      <th>ID</th>\n",
       "      <th>Name</th>\n",
       "      <th>Sex</th>\n",
       "      <th>Age</th>\n",
       "      <th>Height</th>\n",
       "      <th>Weight</th>\n",
       "      <th>Team</th>\n",
       "      <th>NOC</th>\n",
       "      <th>Games</th>\n",
       "      <th>Year</th>\n",
       "      <th>Season</th>\n",
       "      <th>City</th>\n",
       "      <th>Sport</th>\n",
       "      <th>Event</th>\n",
       "      <th>Medal</th>\n",
       "    </tr>\n",
       "  </thead>\n",
       "  <tbody>\n",
       "    <tr>\n",
       "      <th>0</th>\n",
       "      <td>1</td>\n",
       "      <td>A Dijiang</td>\n",
       "      <td>M</td>\n",
       "      <td>24.0</td>\n",
       "      <td>180.0</td>\n",
       "      <td>80.0</td>\n",
       "      <td>China</td>\n",
       "      <td>CHN</td>\n",
       "      <td>1992 Summer</td>\n",
       "      <td>1992</td>\n",
       "      <td>Summer</td>\n",
       "      <td>Barcelona</td>\n",
       "      <td>Basketball</td>\n",
       "      <td>Basketball Men's Basketball</td>\n",
       "      <td>None</td>\n",
       "    </tr>\n",
       "    <tr>\n",
       "      <th>1</th>\n",
       "      <td>2</td>\n",
       "      <td>A Lamusi</td>\n",
       "      <td>M</td>\n",
       "      <td>23.0</td>\n",
       "      <td>170.0</td>\n",
       "      <td>60.0</td>\n",
       "      <td>China</td>\n",
       "      <td>CHN</td>\n",
       "      <td>2012 Summer</td>\n",
       "      <td>2012</td>\n",
       "      <td>Summer</td>\n",
       "      <td>London</td>\n",
       "      <td>Judo</td>\n",
       "      <td>Judo Men's Extra-Lightweight</td>\n",
       "      <td>None</td>\n",
       "    </tr>\n",
       "    <tr>\n",
       "      <th>2</th>\n",
       "      <td>3</td>\n",
       "      <td>Gunnar Nielsen Aaby</td>\n",
       "      <td>M</td>\n",
       "      <td>24.0</td>\n",
       "      <td>NaN</td>\n",
       "      <td>NaN</td>\n",
       "      <td>Denmark</td>\n",
       "      <td>DEN</td>\n",
       "      <td>1920 Summer</td>\n",
       "      <td>1920</td>\n",
       "      <td>Summer</td>\n",
       "      <td>Antwerpen</td>\n",
       "      <td>Football</td>\n",
       "      <td>Football Men's Football</td>\n",
       "      <td>None</td>\n",
       "    </tr>\n",
       "    <tr>\n",
       "      <th>3</th>\n",
       "      <td>4</td>\n",
       "      <td>Edgar Lindenau Aabye</td>\n",
       "      <td>M</td>\n",
       "      <td>34.0</td>\n",
       "      <td>NaN</td>\n",
       "      <td>NaN</td>\n",
       "      <td>Denmark/Sweden</td>\n",
       "      <td>DEN</td>\n",
       "      <td>1900 Summer</td>\n",
       "      <td>1900</td>\n",
       "      <td>Summer</td>\n",
       "      <td>Paris</td>\n",
       "      <td>Tug-Of-War</td>\n",
       "      <td>Tug-Of-War Men's Tug-Of-War</td>\n",
       "      <td>Gold</td>\n",
       "    </tr>\n",
       "    <tr>\n",
       "      <th>4</th>\n",
       "      <td>5</td>\n",
       "      <td>Christine Jacoba Aaftink</td>\n",
       "      <td>F</td>\n",
       "      <td>21.0</td>\n",
       "      <td>185.0</td>\n",
       "      <td>82.0</td>\n",
       "      <td>Netherlands</td>\n",
       "      <td>NED</td>\n",
       "      <td>1988 Winter</td>\n",
       "      <td>1988</td>\n",
       "      <td>Winter</td>\n",
       "      <td>Calgary</td>\n",
       "      <td>Speed Skating</td>\n",
       "      <td>Speed Skating Women's 500 metres</td>\n",
       "      <td>None</td>\n",
       "    </tr>\n",
       "  </tbody>\n",
       "</table>\n",
       "</div>"
      ],
      "text/plain": [
       "   ID                      Name Sex   Age  Height  Weight            Team  \\\n",
       "0   1                 A Dijiang   M  24.0   180.0    80.0           China   \n",
       "1   2                  A Lamusi   M  23.0   170.0    60.0           China   \n",
       "2   3       Gunnar Nielsen Aaby   M  24.0     NaN     NaN         Denmark   \n",
       "3   4      Edgar Lindenau Aabye   M  34.0     NaN     NaN  Denmark/Sweden   \n",
       "4   5  Christine Jacoba Aaftink   F  21.0   185.0    82.0     Netherlands   \n",
       "\n",
       "   NOC        Games  Year  Season       City          Sport  \\\n",
       "0  CHN  1992 Summer  1992  Summer  Barcelona     Basketball   \n",
       "1  CHN  2012 Summer  2012  Summer     London           Judo   \n",
       "2  DEN  1920 Summer  1920  Summer  Antwerpen       Football   \n",
       "3  DEN  1900 Summer  1900  Summer      Paris     Tug-Of-War   \n",
       "4  NED  1988 Winter  1988  Winter    Calgary  Speed Skating   \n",
       "\n",
       "                              Event Medal  \n",
       "0       Basketball Men's Basketball  None  \n",
       "1      Judo Men's Extra-Lightweight  None  \n",
       "2           Football Men's Football  None  \n",
       "3       Tug-Of-War Men's Tug-Of-War  Gold  \n",
       "4  Speed Skating Women's 500 metres  None  "
      ]
     },
     "execution_count": 18,
     "metadata": {},
     "output_type": "execute_result"
    }
   ],
   "source": [
    "# Preview tables\n",
    "pysqldf(\"SELECT * FROM athlete_events LIMIT 5\")"
   ]
  },
  {
   "cell_type": "code",
   "execution_count": 20,
   "id": "0eb20017",
   "metadata": {},
   "outputs": [
    {
     "data": {
      "text/html": [
       "<div>\n",
       "<style scoped>\n",
       "    .dataframe tbody tr th:only-of-type {\n",
       "        vertical-align: middle;\n",
       "    }\n",
       "\n",
       "    .dataframe tbody tr th {\n",
       "        vertical-align: top;\n",
       "    }\n",
       "\n",
       "    .dataframe thead th {\n",
       "        text-align: right;\n",
       "    }\n",
       "</style>\n",
       "<table border=\"1\" class=\"dataframe\">\n",
       "  <thead>\n",
       "    <tr style=\"text-align: right;\">\n",
       "      <th></th>\n",
       "      <th>NOC</th>\n",
       "      <th>region</th>\n",
       "      <th>notes</th>\n",
       "    </tr>\n",
       "  </thead>\n",
       "  <tbody>\n",
       "    <tr>\n",
       "      <th>0</th>\n",
       "      <td>AFG</td>\n",
       "      <td>Afghanistan</td>\n",
       "      <td>None</td>\n",
       "    </tr>\n",
       "    <tr>\n",
       "      <th>1</th>\n",
       "      <td>AHO</td>\n",
       "      <td>Curacao</td>\n",
       "      <td>Netherlands Antilles</td>\n",
       "    </tr>\n",
       "    <tr>\n",
       "      <th>2</th>\n",
       "      <td>ALB</td>\n",
       "      <td>Albania</td>\n",
       "      <td>None</td>\n",
       "    </tr>\n",
       "    <tr>\n",
       "      <th>3</th>\n",
       "      <td>ALG</td>\n",
       "      <td>Algeria</td>\n",
       "      <td>None</td>\n",
       "    </tr>\n",
       "    <tr>\n",
       "      <th>4</th>\n",
       "      <td>AND</td>\n",
       "      <td>Andorra</td>\n",
       "      <td>None</td>\n",
       "    </tr>\n",
       "  </tbody>\n",
       "</table>\n",
       "</div>"
      ],
      "text/plain": [
       "   NOC       region                 notes\n",
       "0  AFG  Afghanistan                  None\n",
       "1  AHO      Curacao  Netherlands Antilles\n",
       "2  ALB      Albania                  None\n",
       "3  ALG      Algeria                  None\n",
       "4  AND      Andorra                  None"
      ]
     },
     "execution_count": 20,
     "metadata": {},
     "output_type": "execute_result"
    }
   ],
   "source": [
    "pysqldf(\"SELECT * FROM noc_regions LIMIT 5\")"
   ]
  },
  {
   "cell_type": "code",
   "execution_count": 21,
   "id": "5ecf420d",
   "metadata": {},
   "outputs": [
    {
     "data": {
      "text/html": [
       "<div>\n",
       "<style scoped>\n",
       "    .dataframe tbody tr th:only-of-type {\n",
       "        vertical-align: middle;\n",
       "    }\n",
       "\n",
       "    .dataframe tbody tr th {\n",
       "        vertical-align: top;\n",
       "    }\n",
       "\n",
       "    .dataframe thead th {\n",
       "        text-align: right;\n",
       "    }\n",
       "</style>\n",
       "<table border=\"1\" class=\"dataframe\">\n",
       "  <thead>\n",
       "    <tr style=\"text-align: right;\">\n",
       "      <th></th>\n",
       "      <th>Country</th>\n",
       "      <th>Population</th>\n",
       "    </tr>\n",
       "  </thead>\n",
       "  <tbody>\n",
       "    <tr>\n",
       "      <th>0</th>\n",
       "      <td>Abkhazia</td>\n",
       "      <td>245424</td>\n",
       "    </tr>\n",
       "    <tr>\n",
       "      <th>1</th>\n",
       "      <td>Afghanistan</td>\n",
       "      <td>32890171</td>\n",
       "    </tr>\n",
       "    <tr>\n",
       "      <th>2</th>\n",
       "      <td>Åland Islands(Finland)</td>\n",
       "      <td>30354</td>\n",
       "    </tr>\n",
       "    <tr>\n",
       "      <th>3</th>\n",
       "      <td>Albania</td>\n",
       "      <td>2829741</td>\n",
       "    </tr>\n",
       "    <tr>\n",
       "      <th>4</th>\n",
       "      <td>Algeria</td>\n",
       "      <td>44700000</td>\n",
       "    </tr>\n",
       "  </tbody>\n",
       "</table>\n",
       "</div>"
      ],
      "text/plain": [
       "                  Country  Population\n",
       "0                Abkhazia      245424\n",
       "1             Afghanistan    32890171\n",
       "2  Åland Islands(Finland)       30354\n",
       "3                 Albania     2829741\n",
       "4                 Algeria    44700000"
      ]
     },
     "execution_count": 21,
     "metadata": {},
     "output_type": "execute_result"
    }
   ],
   "source": [
    "pysqldf(\"SELECT * FROM population LIMIT 5\")"
   ]
  },
  {
   "cell_type": "code",
   "execution_count": 23,
   "id": "d169351a",
   "metadata": {},
   "outputs": [
    {
     "data": {
      "text/html": [
       "<div>\n",
       "<style scoped>\n",
       "    .dataframe tbody tr th:only-of-type {\n",
       "        vertical-align: middle;\n",
       "    }\n",
       "\n",
       "    .dataframe tbody tr th {\n",
       "        vertical-align: top;\n",
       "    }\n",
       "\n",
       "    .dataframe thead th {\n",
       "        text-align: right;\n",
       "    }\n",
       "</style>\n",
       "<table border=\"1\" class=\"dataframe\">\n",
       "  <thead>\n",
       "    <tr style=\"text-align: right;\">\n",
       "      <th></th>\n",
       "      <th>Country</th>\n",
       "      <th>GDP</th>\n",
       "    </tr>\n",
       "  </thead>\n",
       "  <tbody>\n",
       "    <tr>\n",
       "      <th>0</th>\n",
       "      <td>Afghanistan</td>\n",
       "      <td>2065.0</td>\n",
       "    </tr>\n",
       "    <tr>\n",
       "      <th>1</th>\n",
       "      <td>Albania</td>\n",
       "      <td>13965.0</td>\n",
       "    </tr>\n",
       "    <tr>\n",
       "      <th>2</th>\n",
       "      <td>Algeria</td>\n",
       "      <td>11511.0</td>\n",
       "    </tr>\n",
       "    <tr>\n",
       "      <th>3</th>\n",
       "      <td>American Samoa</td>\n",
       "      <td>11200.0</td>\n",
       "    </tr>\n",
       "    <tr>\n",
       "      <th>4</th>\n",
       "      <td>Andorra</td>\n",
       "      <td>49900.0</td>\n",
       "    </tr>\n",
       "  </tbody>\n",
       "</table>\n",
       "</div>"
      ],
      "text/plain": [
       "          Country      GDP\n",
       "0     Afghanistan   2065.0\n",
       "1         Albania  13965.0\n",
       "2         Algeria  11511.0\n",
       "3  American Samoa  11200.0\n",
       "4         Andorra  49900.0"
      ]
     },
     "execution_count": 23,
     "metadata": {},
     "output_type": "execute_result"
    }
   ],
   "source": [
    "pysqldf(\"SELECT * FROM gdp LIMIT 5\")"
   ]
  },
  {
   "cell_type": "code",
   "execution_count": 43,
   "id": "3ab171d9",
   "metadata": {},
   "outputs": [
    {
     "data": {
      "text/html": [
       "<div>\n",
       "<style scoped>\n",
       "    .dataframe tbody tr th:only-of-type {\n",
       "        vertical-align: middle;\n",
       "    }\n",
       "\n",
       "    .dataframe tbody tr th {\n",
       "        vertical-align: top;\n",
       "    }\n",
       "\n",
       "    .dataframe thead th {\n",
       "        text-align: right;\n",
       "    }\n",
       "</style>\n",
       "<table border=\"1\" class=\"dataframe\">\n",
       "  <thead>\n",
       "    <tr style=\"text-align: right;\">\n",
       "      <th></th>\n",
       "      <th>NOC</th>\n",
       "      <th>No. Athletes</th>\n",
       "    </tr>\n",
       "  </thead>\n",
       "  <tbody>\n",
       "    <tr>\n",
       "      <th>0</th>\n",
       "      <td>USA</td>\n",
       "      <td>18853</td>\n",
       "    </tr>\n",
       "    <tr>\n",
       "      <th>1</th>\n",
       "      <td>FRA</td>\n",
       "      <td>12758</td>\n",
       "    </tr>\n",
       "    <tr>\n",
       "      <th>2</th>\n",
       "      <td>GBR</td>\n",
       "      <td>12256</td>\n",
       "    </tr>\n",
       "    <tr>\n",
       "      <th>3</th>\n",
       "      <td>ITA</td>\n",
       "      <td>10715</td>\n",
       "    </tr>\n",
       "    <tr>\n",
       "      <th>4</th>\n",
       "      <td>GER</td>\n",
       "      <td>9830</td>\n",
       "    </tr>\n",
       "  </tbody>\n",
       "</table>\n",
       "</div>"
      ],
      "text/plain": [
       "   NOC  No. Athletes\n",
       "0  USA         18853\n",
       "1  FRA         12758\n",
       "2  GBR         12256\n",
       "3  ITA         10715\n",
       "4  GER          9830"
      ]
     },
     "execution_count": 43,
     "metadata": {},
     "output_type": "execute_result"
    }
   ],
   "source": [
    "# Display number of athletes per region (top 5)\n",
    "athletes_per_region = pysqldf(\"SELECT\\\n",
    "            NOC,\\\n",
    "            COUNT(ID) AS `No. Athletes`\\\n",
    "        FROM\\\n",
    "            athlete_events\\\n",
    "        GROUP BY\\\n",
    "            NOC\\\n",
    "        ORDER BY\\\n",
    "            `No. Athletes` DESC\\\n",
    "        LIMIT 50\")\n",
    "athletes_per_region.head()"
   ]
  },
  {
   "cell_type": "code",
   "execution_count": 62,
   "id": "c6228a71",
   "metadata": {},
   "outputs": [
    {
     "data": {
      "image/png": "[encoded data removed]",
      "text/plain": [
       "<Figure size 1080x720 with 1 Axes>"
      ]
     },
     "metadata": {
      "needs_background": "light"
     },
     "output_type": "display_data"
    }
   ],
   "source": [
    "# Visualise as bar graph (top 50)\n",
    "fig = plt.figure(figsize=(15, 10))\n",
    "ax = plt.bar(athletes_per_region[\"NOC\"], athletes_per_region[\"No. Athletes\"])\n",
    "plt.title(\"Top 50 Regions by Number of Athletes\")\n",
    "plt.xlabel(\"Country\", fontsize=12)\n",
    "plt.ylabel(\"No. athletes\", fontsize=12)\n",
    "plt.xticks(rotation = 90)\n",
    "plt.show()"
   ]
  },
  {
   "cell_type": "code",
   "execution_count": 69,
   "id": "70e6a483",
   "metadata": {},
   "outputs": [
    {
     "data": {
      "text/html": [
       "<div>\n",
       "<style scoped>\n",
       "    .dataframe tbody tr th:only-of-type {\n",
       "        vertical-align: middle;\n",
       "    }\n",
       "\n",
       "    .dataframe tbody tr th {\n",
       "        vertical-align: top;\n",
       "    }\n",
       "\n",
       "    .dataframe thead th {\n",
       "        text-align: right;\n",
       "    }\n",
       "</style>\n",
       "<table border=\"1\" class=\"dataframe\">\n",
       "  <thead>\n",
       "    <tr style=\"text-align: right;\">\n",
       "      <th></th>\n",
       "      <th>Sport</th>\n",
       "      <th>No. Athletes</th>\n",
       "    </tr>\n",
       "  </thead>\n",
       "  <tbody>\n",
       "    <tr>\n",
       "      <th>0</th>\n",
       "      <td>Athletics</td>\n",
       "      <td>38624</td>\n",
       "    </tr>\n",
       "    <tr>\n",
       "      <th>1</th>\n",
       "      <td>Gymnastics</td>\n",
       "      <td>26707</td>\n",
       "    </tr>\n",
       "    <tr>\n",
       "      <th>2</th>\n",
       "      <td>Swimming</td>\n",
       "      <td>23195</td>\n",
       "    </tr>\n",
       "    <tr>\n",
       "      <th>3</th>\n",
       "      <td>Shooting</td>\n",
       "      <td>11448</td>\n",
       "    </tr>\n",
       "    <tr>\n",
       "      <th>4</th>\n",
       "      <td>Cycling</td>\n",
       "      <td>10859</td>\n",
       "    </tr>\n",
       "  </tbody>\n",
       "</table>\n",
       "</div>"
      ],
      "text/plain": [
       "        Sport  No. Athletes\n",
       "0   Athletics         38624\n",
       "1  Gymnastics         26707\n",
       "2    Swimming         23195\n",
       "3    Shooting         11448\n",
       "4     Cycling         10859"
      ]
     },
     "execution_count": 69,
     "metadata": {},
     "output_type": "execute_result"
    }
   ],
   "source": [
    "# Display number of athletes per sport (top 5)\n",
    "athletes_per_event = pysqldf(\"SELECT\\\n",
    "            Sport,\\\n",
    "            COUNT(ID) AS `No. Athletes`\\\n",
    "        FROM\\\n",
    "            athlete_events\\\n",
    "        GROUP BY\\\n",
    "            Sport\\\n",
    "        ORDER BY\\\n",
    "            `No. Athletes` DESC\")\n",
    "athletes_per_event.head()"
   ]
  },
  {
   "cell_type": "code",
   "execution_count": 70,
   "id": "0e6d3858",
   "metadata": {},
   "outputs": [
    {
     "data": {
      "image/png": "[encoded data removed]",
      "text/plain": [
       "<Figure size 1080x720 with 1 Axes>"
      ]
     },
     "metadata": {
      "needs_background": "light"
     },
     "output_type": "display_data"
    }
   ],
   "source": [
    "# Visualise as bar graph\n",
    "fig = plt.figure(figsize=(15, 10))\n",
    "ax = plt.bar(athletes_per_event[\"Sport\"], athletes_per_event[\"No. Athletes\"])\n",
    "plt.title(\"Events by Number of Athletes\")\n",
    "plt.xlabel(\"Event\", fontsize=12)\n",
    "plt.ylabel(\"No. athletes\", fontsize=12)\n",
    "plt.xticks(rotation = 90)\n",
    "plt.show()"
   ]
  },
  {
   "cell_type": "code",
   "execution_count": 71,
   "id": "2c7d9c6d",
   "metadata": {},
   "outputs": [
    {
     "data": {
      "text/html": [
       "<div>\n",
       "<style scoped>\n",
       "    .dataframe tbody tr th:only-of-type {\n",
       "        vertical-align: middle;\n",
       "    }\n",
       "\n",
       "    .dataframe tbody tr th {\n",
       "        vertical-align: top;\n",
       "    }\n",
       "\n",
       "    .dataframe thead th {\n",
       "        text-align: right;\n",
       "    }\n",
       "</style>\n",
       "<table border=\"1\" class=\"dataframe\">\n",
       "  <thead>\n",
       "    <tr style=\"text-align: right;\">\n",
       "      <th></th>\n",
       "      <th>Earliest Year</th>\n",
       "      <th>Latest Year</th>\n",
       "      <th>Total Years</th>\n",
       "    </tr>\n",
       "  </thead>\n",
       "  <tbody>\n",
       "    <tr>\n",
       "      <th>0</th>\n",
       "      <td>1896</td>\n",
       "      <td>2016</td>\n",
       "      <td>120</td>\n",
       "    </tr>\n",
       "  </tbody>\n",
       "</table>\n",
       "</div>"
      ],
      "text/plain": [
       "   Earliest Year  Latest Year  Total Years\n",
       "0           1896         2016          120"
      ]
     },
     "execution_count": 71,
     "metadata": {},
     "output_type": "execute_result"
    }
   ],
   "source": [
    "# Find earliest and latest dates \n",
    "# and total number of years covered\n",
    "pysqldf(\"SELECT\\\n",
    "            MIN(Year) AS `Earliest Year`,\\\n",
    "            MAX(Year) AS `Latest Year`,\\\n",
    "            MAX(Year) - MIN(Year) AS `Total Years`\\\n",
    "        FROM athlete_events\")"
   ]
  },
  {
   "cell_type": "code",
   "execution_count": 73,
   "id": "b71bd8d9",
   "metadata": {},
   "outputs": [
    {
     "data": {
      "text/html": [
       "<div>\n",
       "<style scoped>\n",
       "    .dataframe tbody tr th:only-of-type {\n",
       "        vertical-align: middle;\n",
       "    }\n",
       "\n",
       "    .dataframe tbody tr th {\n",
       "        vertical-align: top;\n",
       "    }\n",
       "\n",
       "    .dataframe thead th {\n",
       "        text-align: right;\n",
       "    }\n",
       "</style>\n",
       "<table border=\"1\" class=\"dataframe\">\n",
       "  <thead>\n",
       "    <tr style=\"text-align: right;\">\n",
       "      <th></th>\n",
       "      <th>Sex</th>\n",
       "      <th>No. Athletes</th>\n",
       "    </tr>\n",
       "  </thead>\n",
       "  <tbody>\n",
       "    <tr>\n",
       "      <th>0</th>\n",
       "      <td>M</td>\n",
       "      <td>196594</td>\n",
       "    </tr>\n",
       "    <tr>\n",
       "      <th>1</th>\n",
       "      <td>F</td>\n",
       "      <td>74522</td>\n",
       "    </tr>\n",
       "  </tbody>\n",
       "</table>\n",
       "</div>"
      ],
      "text/plain": [
       "  Sex  No. Athletes\n",
       "0   M        196594\n",
       "1   F         74522"
      ]
     },
     "execution_count": 73,
     "metadata": {},
     "output_type": "execute_result"
    }
   ],
   "source": [
    "# Total number of men and women\n",
    "pysqldf(\"SELECT\\\n",
    "            Sex,\\\n",
    "            COUNT(ID) AS `No. Athletes`\\\n",
    "        FROM\\\n",
    "            athlete_events\\\n",
    "        GROUP BY\\\n",
    "            Sex\\\n",
    "        ORDER BY\\\n",
    "            `No. Athletes` DESC\")"
   ]
  },
  {
   "cell_type": "code",
   "execution_count": 74,
   "id": "0afaa79a",
   "metadata": {},
   "outputs": [
    {
     "data": {
      "text/html": [
       "<div>\n",
       "<style scoped>\n",
       "    .dataframe tbody tr th:only-of-type {\n",
       "        vertical-align: middle;\n",
       "    }\n",
       "\n",
       "    .dataframe tbody tr th {\n",
       "        vertical-align: top;\n",
       "    }\n",
       "\n",
       "    .dataframe thead th {\n",
       "        text-align: right;\n",
       "    }\n",
       "</style>\n",
       "<table border=\"1\" class=\"dataframe\">\n",
       "  <thead>\n",
       "    <tr style=\"text-align: right;\">\n",
       "      <th></th>\n",
       "      <th>Youngest Athlete</th>\n",
       "      <th>Oldest Athlete</th>\n",
       "      <th>Shortest Athlete</th>\n",
       "      <th>Tallest Athlete</th>\n",
       "      <th>Lightest Athlete</th>\n",
       "      <th>Heaviest Athlete</th>\n",
       "    </tr>\n",
       "  </thead>\n",
       "  <tbody>\n",
       "    <tr>\n",
       "      <th>0</th>\n",
       "      <td>10.0</td>\n",
       "      <td>97.0</td>\n",
       "      <td>127.0</td>\n",
       "      <td>226.0</td>\n",
       "      <td>25.0</td>\n",
       "      <td>214.0</td>\n",
       "    </tr>\n",
       "  </tbody>\n",
       "</table>\n",
       "</div>"
      ],
      "text/plain": [
       "   Youngest Athlete  Oldest Athlete  Shortest Athlete  Tallest Athlete  \\\n",
       "0              10.0            97.0             127.0            226.0   \n",
       "\n",
       "   Lightest Athlete  Heaviest Athlete  \n",
       "0              25.0             214.0  "
      ]
     },
     "execution_count": 74,
     "metadata": {},
     "output_type": "execute_result"
    }
   ],
   "source": [
    "# Age, height and weight spread\n",
    "pysqldf(\"SELECT\\\n",
    "            MIN(Age) AS `Youngest Athlete`,\\\n",
    "            MAX(Age) AS `Oldest Athlete`,\\\n",
    "            MIN(Height) AS `Shortest Athlete`,\\\n",
    "            MAX(Height) AS `Tallest Athlete`,\\\n",
    "            MIN(Weight) AS `Lightest Athlete`,\\\n",
    "            MAX(Weight) AS `Heaviest Athlete`\\\n",
    "        FROM athlete_events\")"
   ]
  },
  {
   "cell_type": "code",
   "execution_count": 75,
   "id": "6956a781",
   "metadata": {},
   "outputs": [
    {
     "data": {
      "text/html": [
       "<div>\n",
       "<style scoped>\n",
       "    .dataframe tbody tr th:only-of-type {\n",
       "        vertical-align: middle;\n",
       "    }\n",
       "\n",
       "    .dataframe tbody tr th {\n",
       "        vertical-align: top;\n",
       "    }\n",
       "\n",
       "    .dataframe thead th {\n",
       "        text-align: right;\n",
       "    }\n",
       "</style>\n",
       "<table border=\"1\" class=\"dataframe\">\n",
       "  <thead>\n",
       "    <tr style=\"text-align: right;\">\n",
       "      <th></th>\n",
       "      <th>Average Age</th>\n",
       "      <th>Average Height</th>\n",
       "      <th>Average Weight</th>\n",
       "    </tr>\n",
       "  </thead>\n",
       "  <tbody>\n",
       "    <tr>\n",
       "      <th>0</th>\n",
       "      <td>25.56</td>\n",
       "      <td>175.34</td>\n",
       "      <td>70.7</td>\n",
       "    </tr>\n",
       "  </tbody>\n",
       "</table>\n",
       "</div>"
      ],
      "text/plain": [
       "   Average Age  Average Height  Average Weight\n",
       "0        25.56          175.34            70.7"
      ]
     },
     "execution_count": 75,
     "metadata": {},
     "output_type": "execute_result"
    }
   ],
   "source": [
    "# Average age, height and weight\n",
    "pysqldf(\"SELECT\\\n",
    "            ROUND(AVG(Age),2) AS `Average Age`,\\\n",
    "            ROUND(AVG(Height),2) AS `Average Height`,\\\n",
    "            ROUND(AVG(Weight),2) AS `Average Weight`\\\n",
    "        FROM athlete_events\")"
   ]
  },
  {
   "cell_type": "code",
   "execution_count": 83,
   "id": "c6659704",
   "metadata": {},
   "outputs": [
    {
     "data": {
      "image/png": "[encoded data removed]",
      "text/plain": [
       "<Figure size 432x288 with 1 Axes>"
      ]
     },
     "metadata": {
      "needs_background": "light"
     },
     "output_type": "display_data"
    }
   ],
   "source": [
    "# Histogram of ages\n",
    "pysqldf(\"SELECT\\\n",
    "            Age\\\n",
    "        FROM\\\n",
    "            athlete_events\").hist(bins=range(10, 97 + 5, 5))\n",
    "plt.show()"
   ]
  },
  {
   "cell_type": "code",
   "execution_count": 84,
   "id": "9993cad2",
   "metadata": {},
   "outputs": [
    {
     "data": {
      "image/png": "[encoded data removed]",
      "text/plain": [
       "<Figure size 432x288 with 1 Axes>"
      ]
     },
     "metadata": {
      "needs_background": "light"
     },
     "output_type": "display_data"
    }
   ],
   "source": [
    "# Histogram of heights\n",
    "pysqldf(\"SELECT\\\n",
    "            Height\\\n",
    "        FROM\\\n",
    "            athlete_events\").hist(bins=range(127, 226 + 5, 5))\n",
    "plt.show()"
   ]
  },
  {
   "cell_type": "code",
   "execution_count": 85,
   "id": "7da30944",
   "metadata": {},
   "outputs": [
    {
     "data": {
      "image/png": "[encoded data removed]",
      "text/plain": [
       "<Figure size 432x288 with 1 Axes>"
      ]
     },
     "metadata": {
      "needs_background": "light"
     },
     "output_type": "display_data"
    }
   ],
   "source": [
    "# Histogram of weights\n",
    "pysqldf(\"SELECT\\\n",
    "            Weight\\\n",
    "        FROM\\\n",
    "            athlete_events\").hist(bins=range(25, 214 + 5, 5))\n",
    "plt.show()"
   ]
  },
  {
   "cell_type": "code",
   "execution_count": 86,
   "id": "1f56143f",
   "metadata": {},
   "outputs": [
    {
     "data": {
      "text/html": [
       "<div>\n",
       "<style scoped>\n",
       "    .dataframe tbody tr th:only-of-type {\n",
       "        vertical-align: middle;\n",
       "    }\n",
       "\n",
       "    .dataframe tbody tr th {\n",
       "        vertical-align: top;\n",
       "    }\n",
       "\n",
       "    .dataframe thead th {\n",
       "        text-align: right;\n",
       "    }\n",
       "</style>\n",
       "<table border=\"1\" class=\"dataframe\">\n",
       "  <thead>\n",
       "    <tr style=\"text-align: right;\">\n",
       "      <th></th>\n",
       "      <th>Medal</th>\n",
       "      <th>Sex</th>\n",
       "      <th>No. Athletes</th>\n",
       "    </tr>\n",
       "  </thead>\n",
       "  <tbody>\n",
       "    <tr>\n",
       "      <th>0</th>\n",
       "      <td>None</td>\n",
       "      <td>F</td>\n",
       "      <td>63269</td>\n",
       "    </tr>\n",
       "    <tr>\n",
       "      <th>1</th>\n",
       "      <td>None</td>\n",
       "      <td>M</td>\n",
       "      <td>168064</td>\n",
       "    </tr>\n",
       "    <tr>\n",
       "      <th>2</th>\n",
       "      <td>Gold</td>\n",
       "      <td>F</td>\n",
       "      <td>3747</td>\n",
       "    </tr>\n",
       "    <tr>\n",
       "      <th>3</th>\n",
       "      <td>Gold</td>\n",
       "      <td>M</td>\n",
       "      <td>9625</td>\n",
       "    </tr>\n",
       "    <tr>\n",
       "      <th>4</th>\n",
       "      <td>Silver</td>\n",
       "      <td>F</td>\n",
       "      <td>3735</td>\n",
       "    </tr>\n",
       "    <tr>\n",
       "      <th>5</th>\n",
       "      <td>Silver</td>\n",
       "      <td>M</td>\n",
       "      <td>9381</td>\n",
       "    </tr>\n",
       "    <tr>\n",
       "      <th>6</th>\n",
       "      <td>Bronze</td>\n",
       "      <td>F</td>\n",
       "      <td>3771</td>\n",
       "    </tr>\n",
       "    <tr>\n",
       "      <th>7</th>\n",
       "      <td>Bronze</td>\n",
       "      <td>M</td>\n",
       "      <td>9524</td>\n",
       "    </tr>\n",
       "  </tbody>\n",
       "</table>\n",
       "</div>"
      ],
      "text/plain": [
       "    Medal Sex  No. Athletes\n",
       "0    None   F         63269\n",
       "1    None   M        168064\n",
       "2    Gold   F          3747\n",
       "3    Gold   M          9625\n",
       "4  Silver   F          3735\n",
       "5  Silver   M          9381\n",
       "6  Bronze   F          3771\n",
       "7  Bronze   M          9524"
      ]
     },
     "execution_count": 86,
     "metadata": {},
     "output_type": "execute_result"
    }
   ],
   "source": [
    "# Number of medals by sex\n",
    "pysqldf(\"SELECT\\\n",
    "            Medal,\\\n",
    "            Sex,\\\n",
    "            COUNT(ID) AS `No. Athletes`\\\n",
    "        FROM\\\n",
    "            athlete_events\\\n",
    "        GROUP BY\\\n",
    "            Medal,\\\n",
    "            Sex\\\n",
    "        ORDER BY CASE WHEN Medal = 'Gold' THEN '1'\\\n",
    "            WHEN Medal = 'Silver' THEN '2'\\\n",
    "            WHEN Medal = 'Bronze' THEN '3'\\\n",
    "            ELSE Medal END,\\\n",
    "        Sex\")"
   ]
  },
  {
   "cell_type": "code",
   "execution_count": 88,
   "id": "c25bc84a",
   "metadata": {},
   "outputs": [
    {
     "data": {
      "text/html": [
       "<div>\n",
       "<style scoped>\n",
       "    .dataframe tbody tr th:only-of-type {\n",
       "        vertical-align: middle;\n",
       "    }\n",
       "\n",
       "    .dataframe tbody tr th {\n",
       "        vertical-align: top;\n",
       "    }\n",
       "\n",
       "    .dataframe thead th {\n",
       "        text-align: right;\n",
       "    }\n",
       "</style>\n",
       "<table border=\"1\" class=\"dataframe\">\n",
       "  <thead>\n",
       "    <tr style=\"text-align: right;\">\n",
       "      <th></th>\n",
       "      <th>Age</th>\n",
       "      <th>Total Medals</th>\n",
       "      <th>No. Athletes</th>\n",
       "    </tr>\n",
       "  </thead>\n",
       "  <tbody>\n",
       "    <tr>\n",
       "      <th>0</th>\n",
       "      <td>NaN</td>\n",
       "      <td>732</td>\n",
       "      <td>732</td>\n",
       "    </tr>\n",
       "    <tr>\n",
       "      <th>1</th>\n",
       "      <td>10.0</td>\n",
       "      <td>1</td>\n",
       "      <td>1</td>\n",
       "    </tr>\n",
       "    <tr>\n",
       "      <th>2</th>\n",
       "      <td>11.0</td>\n",
       "      <td>1</td>\n",
       "      <td>1</td>\n",
       "    </tr>\n",
       "    <tr>\n",
       "      <th>3</th>\n",
       "      <td>12.0</td>\n",
       "      <td>6</td>\n",
       "      <td>6</td>\n",
       "    </tr>\n",
       "    <tr>\n",
       "      <th>4</th>\n",
       "      <td>13.0</td>\n",
       "      <td>16</td>\n",
       "      <td>16</td>\n",
       "    </tr>\n",
       "  </tbody>\n",
       "</table>\n",
       "</div>"
      ],
      "text/plain": [
       "    Age  Total Medals  No. Athletes\n",
       "0   NaN           732           732\n",
       "1  10.0             1             1\n",
       "2  11.0             1             1\n",
       "3  12.0             6             6\n",
       "4  13.0            16            16"
      ]
     },
     "execution_count": 88,
     "metadata": {},
     "output_type": "execute_result"
    }
   ],
   "source": [
    "# Number of medals by age\n",
    "medals_by_age = pysqldf(\"SELECT\\\n",
    "            Age,\\\n",
    "            COUNT(Medal) AS `Total Medals`,\\\n",
    "            COUNT(ID) AS `No. Athletes`\\\n",
    "        FROM\\\n",
    "            athlete_events\\\n",
    "        WHERE\\\n",
    "            Medal IN ('Gold', 'Silver','Bronze')\\\n",
    "        GROUP BY\\\n",
    "            Age\\\n",
    "        ORDER BY\\\n",
    "            Age\")\n",
    "medals_by_age.head(5)"
   ]
  },
  {
   "cell_type": "code",
   "execution_count": 93,
   "id": "75c1b9de",
   "metadata": {},
   "outputs": [
    {
     "data": {
      "text/html": [
       "<div>\n",
       "<style scoped>\n",
       "    .dataframe tbody tr th:only-of-type {\n",
       "        vertical-align: middle;\n",
       "    }\n",
       "\n",
       "    .dataframe tbody tr th {\n",
       "        vertical-align: top;\n",
       "    }\n",
       "\n",
       "    .dataframe thead th {\n",
       "        text-align: right;\n",
       "    }\n",
       "</style>\n",
       "<table border=\"1\" class=\"dataframe\">\n",
       "  <thead>\n",
       "    <tr style=\"text-align: right;\">\n",
       "      <th></th>\n",
       "      <th>Age</th>\n",
       "      <th>Total Medals</th>\n",
       "      <th>No. Athletes</th>\n",
       "    </tr>\n",
       "  </thead>\n",
       "  <tbody>\n",
       "    <tr>\n",
       "      <th>0</th>\n",
       "      <td>10.0</td>\n",
       "      <td>1</td>\n",
       "      <td>1</td>\n",
       "    </tr>\n",
       "    <tr>\n",
       "      <th>1</th>\n",
       "      <td>11.0</td>\n",
       "      <td>1</td>\n",
       "      <td>1</td>\n",
       "    </tr>\n",
       "    <tr>\n",
       "      <th>2</th>\n",
       "      <td>12.0</td>\n",
       "      <td>6</td>\n",
       "      <td>6</td>\n",
       "    </tr>\n",
       "    <tr>\n",
       "      <th>3</th>\n",
       "      <td>13.0</td>\n",
       "      <td>16</td>\n",
       "      <td>16</td>\n",
       "    </tr>\n",
       "    <tr>\n",
       "      <th>4</th>\n",
       "      <td>14.0</td>\n",
       "      <td>75</td>\n",
       "      <td>75</td>\n",
       "    </tr>\n",
       "  </tbody>\n",
       "</table>\n",
       "</div>"
      ],
      "text/plain": [
       "    Age  Total Medals  No. Athletes\n",
       "0  10.0             1             1\n",
       "1  11.0             1             1\n",
       "2  12.0             6             6\n",
       "3  13.0            16            16\n",
       "4  14.0            75            75"
      ]
     },
     "execution_count": 93,
     "metadata": {},
     "output_type": "execute_result"
    }
   ],
   "source": [
    "# See we have 732 athletes for which no age information is present. Drop this first before visualising\n",
    "\n",
    "medals_by_age = pysqldf(\"SELECT\\\n",
    "            Age,\\\n",
    "            COUNT(Medal) AS `Total Medals`,\\\n",
    "            COUNT(ID) AS `No. Athletes`\\\n",
    "        FROM\\\n",
    "            athlete_events\\\n",
    "        WHERE\\\n",
    "            (Medal IN ('Gold', 'Silver','Bronze'))\\\n",
    "        AND\\\n",
    "            (Age != 'NaN')\\\n",
    "        GROUP BY\\\n",
    "            Age\\\n",
    "        ORDER BY\\\n",
    "            Age\")\n",
    "medals_by_age.head(5)"
   ]
  },
  {
   "cell_type": "code",
   "execution_count": 96,
   "id": "ef51532c",
   "metadata": {},
   "outputs": [
    {
     "data": {
      "image/png": "[encoded data removed]",
      "text/plain": [
       "<Figure size 1080x720 with 1 Axes>"
      ]
     },
     "metadata": {
      "needs_background": "light"
     },
     "output_type": "display_data"
    }
   ],
   "source": [
    "# Visualise as bar graph\n",
    "fig = plt.figure(figsize=(15, 10))\n",
    "ax = plt.bar(medals_by_age[\"Age\"], medals_by_age[\"Total Medals\"])\n",
    "plt.title(\"Number of Medals by Age\")\n",
    "plt.xlabel(\"Age\", fontsize=12)\n",
    "plt.ylabel(\"No. Medals\", fontsize=12)\n",
    "plt.show()"
   ]
  },
  {
   "cell_type": "code",
   "execution_count": 99,
   "id": "999977fd",
   "metadata": {},
   "outputs": [],
   "source": [
    "# Create temporary table to bring in country name\n",
    "temp_table = pysqldf(\"SELECT E.*, R.region\\\n",
    "            FROM athlete_events E\\\n",
    "            LEFT JOIN noc_regions R\\\n",
    "            ON E.NOC = R.NOC\")"
   ]
  },
  {
   "cell_type": "code",
   "execution_count": 103,
   "id": "9ef6373a",
   "metadata": {},
   "outputs": [],
   "source": [
    "# Create temporary table to bring in GDP\n",
    "temp_table2 = pysqldf(\"SELECT T.*, G.GDP\\\n",
    "                    FROM temp_table T\\\n",
    "                    LEFT JOIN gdp G\\\n",
    "                    ON T.region = G.Country\")"
   ]
  },
  {
   "cell_type": "code",
   "execution_count": 104,
   "id": "734a452d",
   "metadata": {},
   "outputs": [],
   "source": [
    "# Create complete table with country name, GDP and population\n",
    "complete_table = pysqldf(\"SELECT T.*, P.Population\\\n",
    "                        FROM temp_table2 T\\\n",
    "                        LEFT JOIN population P\\\n",
    "                        ON T.region = P.Country\")"
   ]
  },
  {
   "cell_type": "code",
   "execution_count": 106,
   "id": "7e7a77b5",
   "metadata": {},
   "outputs": [
    {
     "data": {
      "text/html": [
       "<div>\n",
       "<style scoped>\n",
       "    .dataframe tbody tr th:only-of-type {\n",
       "        vertical-align: middle;\n",
       "    }\n",
       "\n",
       "    .dataframe tbody tr th {\n",
       "        vertical-align: top;\n",
       "    }\n",
       "\n",
       "    .dataframe thead th {\n",
       "        text-align: right;\n",
       "    }\n",
       "</style>\n",
       "<table border=\"1\" class=\"dataframe\">\n",
       "  <thead>\n",
       "    <tr style=\"text-align: right;\">\n",
       "      <th></th>\n",
       "      <th>ID</th>\n",
       "      <th>Name</th>\n",
       "      <th>Sex</th>\n",
       "      <th>Age</th>\n",
       "      <th>Height</th>\n",
       "      <th>Weight</th>\n",
       "      <th>Team</th>\n",
       "      <th>NOC</th>\n",
       "      <th>Games</th>\n",
       "      <th>Year</th>\n",
       "      <th>Season</th>\n",
       "      <th>City</th>\n",
       "      <th>Sport</th>\n",
       "      <th>Event</th>\n",
       "      <th>Medal</th>\n",
       "      <th>region</th>\n",
       "      <th>GDP</th>\n",
       "      <th>Population</th>\n",
       "    </tr>\n",
       "  </thead>\n",
       "  <tbody>\n",
       "    <tr>\n",
       "      <th>0</th>\n",
       "      <td>1</td>\n",
       "      <td>A Dijiang</td>\n",
       "      <td>M</td>\n",
       "      <td>24.0</td>\n",
       "      <td>180.0</td>\n",
       "      <td>80.0</td>\n",
       "      <td>China</td>\n",
       "      <td>CHN</td>\n",
       "      <td>1992 Summer</td>\n",
       "      <td>1992</td>\n",
       "      <td>Summer</td>\n",
       "      <td>Barcelona</td>\n",
       "      <td>Basketball</td>\n",
       "      <td>Basketball Men's Basketball</td>\n",
       "      <td>None</td>\n",
       "      <td>China</td>\n",
       "      <td>16117.0</td>\n",
       "      <td>1.411779e+09</td>\n",
       "    </tr>\n",
       "    <tr>\n",
       "      <th>1</th>\n",
       "      <td>2</td>\n",
       "      <td>A Lamusi</td>\n",
       "      <td>M</td>\n",
       "      <td>23.0</td>\n",
       "      <td>170.0</td>\n",
       "      <td>60.0</td>\n",
       "      <td>China</td>\n",
       "      <td>CHN</td>\n",
       "      <td>2012 Summer</td>\n",
       "      <td>2012</td>\n",
       "      <td>Summer</td>\n",
       "      <td>London</td>\n",
       "      <td>Judo</td>\n",
       "      <td>Judo Men's Extra-Lightweight</td>\n",
       "      <td>None</td>\n",
       "      <td>China</td>\n",
       "      <td>16117.0</td>\n",
       "      <td>1.411779e+09</td>\n",
       "    </tr>\n",
       "    <tr>\n",
       "      <th>2</th>\n",
       "      <td>3</td>\n",
       "      <td>Gunnar Nielsen Aaby</td>\n",
       "      <td>M</td>\n",
       "      <td>24.0</td>\n",
       "      <td>NaN</td>\n",
       "      <td>NaN</td>\n",
       "      <td>Denmark</td>\n",
       "      <td>DEN</td>\n",
       "      <td>1920 Summer</td>\n",
       "      <td>1920</td>\n",
       "      <td>Summer</td>\n",
       "      <td>Antwerpen</td>\n",
       "      <td>Football</td>\n",
       "      <td>Football Men's Football</td>\n",
       "      <td>None</td>\n",
       "      <td>Denmark</td>\n",
       "      <td>57804.0</td>\n",
       "      <td>5.850189e+06</td>\n",
       "    </tr>\n",
       "    <tr>\n",
       "      <th>3</th>\n",
       "      <td>4</td>\n",
       "      <td>Edgar Lindenau Aabye</td>\n",
       "      <td>M</td>\n",
       "      <td>34.0</td>\n",
       "      <td>NaN</td>\n",
       "      <td>NaN</td>\n",
       "      <td>Denmark/Sweden</td>\n",
       "      <td>DEN</td>\n",
       "      <td>1900 Summer</td>\n",
       "      <td>1900</td>\n",
       "      <td>Summer</td>\n",
       "      <td>Paris</td>\n",
       "      <td>Tug-Of-War</td>\n",
       "      <td>Tug-Of-War Men's Tug-Of-War</td>\n",
       "      <td>Gold</td>\n",
       "      <td>Denmark</td>\n",
       "      <td>57804.0</td>\n",
       "      <td>5.850189e+06</td>\n",
       "    </tr>\n",
       "    <tr>\n",
       "      <th>4</th>\n",
       "      <td>5</td>\n",
       "      <td>Christine Jacoba Aaftink</td>\n",
       "      <td>F</td>\n",
       "      <td>21.0</td>\n",
       "      <td>185.0</td>\n",
       "      <td>82.0</td>\n",
       "      <td>Netherlands</td>\n",
       "      <td>NED</td>\n",
       "      <td>1988 Winter</td>\n",
       "      <td>1988</td>\n",
       "      <td>Winter</td>\n",
       "      <td>Calgary</td>\n",
       "      <td>Speed Skating</td>\n",
       "      <td>Speed Skating Women's 500 metres</td>\n",
       "      <td>None</td>\n",
       "      <td>Netherlands</td>\n",
       "      <td>56935.0</td>\n",
       "      <td>1.764388e+07</td>\n",
       "    </tr>\n",
       "  </tbody>\n",
       "</table>\n",
       "</div>"
      ],
      "text/plain": [
       "   ID                      Name Sex   Age  Height  Weight            Team  \\\n",
       "0   1                 A Dijiang   M  24.0   180.0    80.0           China   \n",
       "1   2                  A Lamusi   M  23.0   170.0    60.0           China   \n",
       "2   3       Gunnar Nielsen Aaby   M  24.0     NaN     NaN         Denmark   \n",
       "3   4      Edgar Lindenau Aabye   M  34.0     NaN     NaN  Denmark/Sweden   \n",
       "4   5  Christine Jacoba Aaftink   F  21.0   185.0    82.0     Netherlands   \n",
       "\n",
       "   NOC        Games  Year  Season       City          Sport  \\\n",
       "0  CHN  1992 Summer  1992  Summer  Barcelona     Basketball   \n",
       "1  CHN  2012 Summer  2012  Summer     London           Judo   \n",
       "2  DEN  1920 Summer  1920  Summer  Antwerpen       Football   \n",
       "3  DEN  1900 Summer  1900  Summer      Paris     Tug-Of-War   \n",
       "4  NED  1988 Winter  1988  Winter    Calgary  Speed Skating   \n",
       "\n",
       "                              Event Medal       region      GDP    Population  \n",
       "0       Basketball Men's Basketball  None        China  16117.0  1.411779e+09  \n",
       "1      Judo Men's Extra-Lightweight  None        China  16117.0  1.411779e+09  \n",
       "2           Football Men's Football  None      Denmark  57804.0  5.850189e+06  \n",
       "3       Tug-Of-War Men's Tug-Of-War  Gold      Denmark  57804.0  5.850189e+06  \n",
       "4  Speed Skating Women's 500 metres  None  Netherlands  56935.0  1.764388e+07  "
      ]
     },
     "execution_count": 106,
     "metadata": {},
     "output_type": "execute_result"
    }
   ],
   "source": [
    "complete_table.head(5)"
   ]
  },
  {
   "cell_type": "code",
   "execution_count": 108,
   "id": "e221bf8c",
   "metadata": {},
   "outputs": [
    {
     "data": {
      "text/html": [
       "<div>\n",
       "<style scoped>\n",
       "    .dataframe tbody tr th:only-of-type {\n",
       "        vertical-align: middle;\n",
       "    }\n",
       "\n",
       "    .dataframe tbody tr th {\n",
       "        vertical-align: top;\n",
       "    }\n",
       "\n",
       "    .dataframe thead th {\n",
       "        text-align: right;\n",
       "    }\n",
       "</style>\n",
       "<table border=\"1\" class=\"dataframe\">\n",
       "  <thead>\n",
       "    <tr style=\"text-align: right;\">\n",
       "      <th></th>\n",
       "      <th>region</th>\n",
       "      <th>Total Medals</th>\n",
       "      <th>GDP</th>\n",
       "      <th>Population</th>\n",
       "    </tr>\n",
       "  </thead>\n",
       "  <tbody>\n",
       "    <tr>\n",
       "      <th>0</th>\n",
       "      <td>USA</td>\n",
       "      <td>5637</td>\n",
       "      <td>62530.0</td>\n",
       "      <td>332480518.0</td>\n",
       "    </tr>\n",
       "    <tr>\n",
       "      <th>1</th>\n",
       "      <td>Russia</td>\n",
       "      <td>3947</td>\n",
       "      <td>27044.0</td>\n",
       "      <td>146171015.0</td>\n",
       "    </tr>\n",
       "    <tr>\n",
       "      <th>2</th>\n",
       "      <td>Germany</td>\n",
       "      <td>3756</td>\n",
       "      <td>53919.0</td>\n",
       "      <td>83129285.0</td>\n",
       "    </tr>\n",
       "    <tr>\n",
       "      <th>3</th>\n",
       "      <td>UK</td>\n",
       "      <td>2068</td>\n",
       "      <td>46659.0</td>\n",
       "      <td>67081234.0</td>\n",
       "    </tr>\n",
       "    <tr>\n",
       "      <th>4</th>\n",
       "      <td>France</td>\n",
       "      <td>1777</td>\n",
       "      <td>46184.0</td>\n",
       "      <td>67486000.0</td>\n",
       "    </tr>\n",
       "  </tbody>\n",
       "</table>\n",
       "</div>"
      ],
      "text/plain": [
       "    region  Total Medals      GDP   Population\n",
       "0      USA          5637  62530.0  332480518.0\n",
       "1   Russia          3947  27044.0  146171015.0\n",
       "2  Germany          3756  53919.0   83129285.0\n",
       "3       UK          2068  46659.0   67081234.0\n",
       "4   France          1777  46184.0   67486000.0"
      ]
     },
     "execution_count": 108,
     "metadata": {},
     "output_type": "execute_result"
    }
   ],
   "source": [
    "# Create subtable containing just country, medals, GDP and population\n",
    "medal_gdp_population = pysqldf(\"SELECT\\\n",
    "                                    region,\\\n",
    "                                    COUNT(Medal) AS `Total Medals`,\\\n",
    "                                    GDP,\\\n",
    "                                    Population\\\n",
    "                                FROM\\\n",
    "                                    complete_table\\\n",
    "                                WHERE\\\n",
    "                                    Medal IN ('Gold', 'Silver','Bronze')\\\n",
    "                                AND\\\n",
    "                                    GDP IS NOT NULL\\\n",
    "                                GROUP BY\\\n",
    "                                    region,\\\n",
    "                                    GDP,\\\n",
    "                                    Population\\\n",
    "                                ORDER BY\\\n",
    "                                    COUNT(Medal) DESC\")\n",
    "medal_gdp_population.head(5)"
   ]
  },
  {
   "cell_type": "code",
   "execution_count": 206,
   "id": "35acbfda",
   "metadata": {},
   "outputs": [
    {
     "name": "stdout",
     "output_type": "stream",
     "text": [
      "GDP-Medals Correlation Coefficient:  0.277\n"
     ]
    }
   ],
   "source": [
    "# Calculate Pearson correlation between GDP and no. medals\n",
    "temp_table3 = pysqldf(\"SELECT\\\n",
    "            COUNT(*) AS n,\\\n",
    "            SUM(`Total Medals`) AS sum_x,\\\n",
    "            SUM(GDP) AS sum_y,\\\n",
    "            SUM(xx) AS sum_xx,\\\n",
    "            SUM(yy) AS sum_yy,\\\n",
    "            SUM(xy) AS sum_xy\\\n",
    "                FROM\\\n",
    "                    (SELECT\\\n",
    "                        *,\\\n",
    "                        cast(`Total Medals` as bigint) * cast(`Total Medals` as bigint) AS xx,\\\n",
    "                        cast(GDP as bigint) * cast(GDP as bigint) AS yy,\\\n",
    "                        cast(`Total Medals` as bigint) * cast(GDP as bigint) AS xy\\\n",
    "                    FROM medal_gdp_population)\")\n",
    "print(\"GDP-Medals Correlation Coefficient: \",round(((temp_table3['n'] * temp_table3['sum_xy']\\\n",
    "                                               - temp_table3['sum_x'] * temp_table3['sum_y'])\\\n",
    "                                                / math.sqrt((temp_table3['n']*temp_table3['sum_xx'] - \\\n",
    "                                temp_table3['sum_x']**2)*(temp_table3['n']*temp_table3['sum_yy']\\\n",
    "                                - temp_table3['sum_y']**2)))[0],3))"
   ]
  },
  {
   "cell_type": "code",
   "execution_count": 222,
   "id": "f3567fe3",
   "metadata": {},
   "outputs": [
    {
     "name": "stdout",
     "output_type": "stream",
     "text": [
      "Population-Medals Correlation Coefficient:  0.191\n"
     ]
    }
   ],
   "source": [
    "# Calculate Pearson correlation between population and no. medals\n",
    "temp_table4 = pysqldf(\"SELECT\\\n",
    "            COUNT(*) AS n,\\\n",
    "            SUM(`Total Medals`) AS sum_x,\\\n",
    "            cast(SUM(Population) as bigint) AS sum_y,\\\n",
    "            SUM(xx) AS sum_xx,\\\n",
    "            SUM(yy) AS sum_yy,\\\n",
    "            SUM(xy) AS sum_xy\\\n",
    "                FROM\\\n",
    "                    (SELECT\\\n",
    "                        *,\\\n",
    "                        cast(`Total Medals` as bigint) * cast(`Total Medals` as bigint) AS xx,\\\n",
    "                        cast(Population as bigint) * cast(Population as bigint) AS yy,\\\n",
    "                        cast(`Total Medals` as bigint) * cast(Population as bigint) AS xy\\\n",
    "                    FROM medal_gdp_population)\")\n",
    "print(\"Population-Medals Correlation Coefficient: \",round(((temp_table4['n'] * temp_table4['sum_xy']\\\n",
    "                                               - temp_table4['sum_x'] * temp_table4['sum_y'])\\\n",
    "                                                / math.sqrt((temp_table4['n']*temp_table4['sum_xx'] - \\\n",
    "                                # Convert largest numbers to int to prevent pandas overflow issues\n",
    "                                temp_table4['sum_x']**2)*(int(temp_table4['n'])*int(temp_table4['sum_yy'])\\\n",
    "                                - int(temp_table4['sum_y'])**2)))[0],3))"
   ]
  },
  {
   "cell_type": "code",
   "execution_count": 231,
   "id": "4f6ce994",
   "metadata": {},
   "outputs": [
    {
     "data": {
      "image/png": "[encoded data removed]",
      "text/plain": [
       "<Figure size 720x504 with 1 Axes>"
      ]
     },
     "metadata": {
      "needs_background": "light"
     },
     "output_type": "display_data"
    }
   ],
   "source": [
    "# Visualise the correlations\n",
    "fig = plt.figure(figsize=(10, 7))\n",
    "plt.scatter(medal_gdp_population['GDP'], medal_gdp_population['Total Medals'])\n",
    "plt.title(\"Number of Medals vs. GDP\")\n",
    "plt.xlabel(\"GDP (USD)\", fontsize=12)\n",
    "plt.ylabel(\"No. Medals\", fontsize=12)\n",
    "plt.show()"
   ]
  },
  {
   "cell_type": "code",
   "execution_count": 232,
   "id": "036f8526",
   "metadata": {},
   "outputs": [
    {
     "data": {
      "image/png": "[encoded data removed]",
      "text/plain": [
       "<Figure size 720x504 with 1 Axes>"
      ]
     },
     "metadata": {
      "needs_background": "light"
     },
     "output_type": "display_data"
    }
   ],
   "source": [
    "# Visualise the correlations\n",
    "fig = plt.figure(figsize=(10, 7))\n",
    "plt.scatter(medal_gdp_population['Population'], medal_gdp_population['Total Medals'])\n",
    "plt.title(\"Number of Medals vs. Population\")\n",
    "plt.xlabel(\"Population)\", fontsize=12)\n",
    "plt.ylabel(\"No. Medals\", fontsize=12)\n",
    "plt.show()"
   ]
  },
  {
   "cell_type": "code",
   "execution_count": 233,
   "id": "68c3f1c6",
   "metadata": {},
   "outputs": [
    {
     "name": "stdout",
     "output_type": "stream",
     "text": [
      "GDP-Medals Correlation Coefficient:  0.475\n"
     ]
    }
   ],
   "source": [
    "# Clear outliers in both graphs. See if removing these affects the correlation\n",
    "# Remove countries with GDP >= 70,000\n",
    "temp_table3 = pysqldf(\"SELECT\\\n",
    "            COUNT(*) AS n,\\\n",
    "            SUM(`Total Medals`) AS sum_x,\\\n",
    "            SUM(GDP) AS sum_y,\\\n",
    "            SUM(xx) AS sum_xx,\\\n",
    "            SUM(yy) AS sum_yy,\\\n",
    "            SUM(xy) AS sum_xy\\\n",
    "                FROM\\\n",
    "                    (SELECT\\\n",
    "                        *,\\\n",
    "                        cast(`Total Medals` as bigint) * cast(`Total Medals` as bigint) AS xx,\\\n",
    "                        cast(GDP as bigint) * cast(GDP as bigint) AS yy,\\\n",
    "                        cast(`Total Medals` as bigint) * cast(GDP as bigint) AS xy\\\n",
    "                    FROM medal_gdp_population\\\n",
    "                    WHERE\\\n",
    "                        GDP < 70000)\")\n",
    "print(\"GDP-Medals Correlation Coefficient: \",round(((temp_table3['n'] * temp_table3['sum_xy']\\\n",
    "                                               - temp_table3['sum_x'] * temp_table3['sum_y'])\\\n",
    "                                                / math.sqrt((temp_table3['n']*temp_table3['sum_xx'] - \\\n",
    "                                temp_table3['sum_x']**2)*(temp_table3['n']*temp_table3['sum_yy']\\\n",
    "                                - temp_table3['sum_y']**2)))[0],3))"
   ]
  },
  {
   "cell_type": "code",
   "execution_count": 234,
   "id": "e7e51cfc",
   "metadata": {},
   "outputs": [
    {
     "name": "stdout",
     "output_type": "stream",
     "text": [
      "Population-Medals Correlation Coefficient:  0.471\n"
     ]
    }
   ],
   "source": [
    "# Remove countries with Population >= 500,000,000\n",
    "temp_table4 = pysqldf(\"SELECT\\\n",
    "            COUNT(*) AS n,\\\n",
    "            SUM(`Total Medals`) AS sum_x,\\\n",
    "            cast(SUM(Population) as bigint) AS sum_y,\\\n",
    "            SUM(xx) AS sum_xx,\\\n",
    "            SUM(yy) AS sum_yy,\\\n",
    "            SUM(xy) AS sum_xy\\\n",
    "                FROM\\\n",
    "                    (SELECT\\\n",
    "                        *,\\\n",
    "                        cast(`Total Medals` as bigint) * cast(`Total Medals` as bigint) AS xx,\\\n",
    "                        cast(Population as bigint) * cast(Population as bigint) AS yy,\\\n",
    "                        cast(`Total Medals` as bigint) * cast(Population as bigint) AS xy\\\n",
    "                    FROM medal_gdp_population\\\n",
    "                    WHERE\\\n",
    "                        Population < 500000000)\")\n",
    "print(\"Population-Medals Correlation Coefficient: \",round(((temp_table4['n'] * temp_table4['sum_xy']\\\n",
    "                                               - temp_table4['sum_x'] * temp_table4['sum_y'])\\\n",
    "                                                / math.sqrt((temp_table4['n']*temp_table4['sum_xx'] - \\\n",
    "                                # Convert largest numbers to int to prevent pandas overflow issues\n",
    "                                temp_table4['sum_x']**2)*(int(temp_table4['n'])*int(temp_table4['sum_yy'])\\\n",
    "                                - int(temp_table4['sum_y'])**2)))[0],3))"
   ]
  },
  {
   "cell_type": "code",
   "execution_count": null,
   "id": "e7302a20",
   "metadata": {},
   "outputs": [],
   "source": [
    "# Some positive correlation between GDP and medals, and Population and medals (especially once outliers removed)\n",
    "# but not particualrly strong correlation."
   ]
  }
 ],
 "metadata": {
  "kernelspec": {
   "display_name": "Python 3",
   "language": "python",
   "name": "python3"
  },
  "language_info": {
   "codemirror_mode": {
    "name": "ipython",
    "version": 3
   },
   "file_extension": ".py",
   "mimetype": "text/x-python",
   "name": "python",
   "nbconvert_exporter": "python",
   "pygments_lexer": "ipython3",
   "version": "3.8.5"
  }
 },
 "nbformat": 4,
 "nbformat_minor": 5
}
